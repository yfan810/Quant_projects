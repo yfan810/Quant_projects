{
 "cells": [
  {
   "cell_type": "code",
   "execution_count": 4,
   "id": "d37112f1-d044-440c-bda5-dec72d5ab953",
   "metadata": {},
   "outputs": [],
   "source": [
    "import pandas as pd\n",
    "import numpy as np\n",
    "import matplotlib.pyplot as plt\n",
    "import yfinance as yf\n",
    "import os, sys\n",
    "\n",
    "sys.path.append(os.path.abspath('..'))\n",
    "sys.path.append(os.path.abspath('../src'))\n",
    "from pair_trading import generate_signals, backtest\n"
   ]
  },
  {
   "cell_type": "code",
   "execution_count": 5,
   "id": "b453f0b5-d3c1-4a8c-9105-7c6e64249f0f",
   "metadata": {},
   "outputs": [],
   "source": [
    "ticker_a, ticker_b = \"GDX\", \"GDXJ\"  \n",
    "start, end = \"2015-01-01\", None\n",
    "lookback, entry_z, exit_z = 60, 2.0, 0.5\n",
    "tc_bps, slippage_bps = 3.0, 1.5\n"
   ]
  },
  {
   "cell_type": "code",
   "execution_count": 3,
   "id": "f007621b-700b-4420-bc18-fa60ac21b09a",
   "metadata": {},
   "outputs": [
    {
     "name": "stdout",
     "output_type": "stream",
     "text": [
      "YF.download() has changed argument auto_adjust default to True\n"
     ]
    },
    {
     "name": "stderr",
     "output_type": "stream",
     "text": [
      "\n",
      "1 Failed download:\n",
      "['GDX']: YFRateLimitError('Too Many Requests. Rate limited. Try after a while.')\n",
      "\n",
      "1 Failed download:\n",
      "['GDXJ']: YFRateLimitError('Too Many Requests. Rate limited. Try after a while.')\n"
     ]
    },
    {
     "data": {
      "text/html": [
       "<div>\n",
       "<style scoped>\n",
       "    .dataframe tbody tr th:only-of-type {\n",
       "        vertical-align: middle;\n",
       "    }\n",
       "\n",
       "    .dataframe tbody tr th {\n",
       "        vertical-align: top;\n",
       "    }\n",
       "\n",
       "    .dataframe thead th {\n",
       "        text-align: right;\n",
       "    }\n",
       "</style>\n",
       "<table border=\"1\" class=\"dataframe\">\n",
       "  <thead>\n",
       "    <tr style=\"text-align: right;\">\n",
       "      <th>Ticker</th>\n",
       "      <th>GDX</th>\n",
       "      <th>GDXJ</th>\n",
       "    </tr>\n",
       "    <tr>\n",
       "      <th>Date</th>\n",
       "      <th></th>\n",
       "      <th></th>\n",
       "    </tr>\n",
       "  </thead>\n",
       "  <tbody>\n",
       "  </tbody>\n",
       "</table>\n",
       "</div>"
      ],
      "text/plain": [
       "Empty DataFrame\n",
       "Columns: [GDX, GDXJ]\n",
       "Index: []"
      ]
     },
     "execution_count": 3,
     "metadata": {},
     "output_type": "execute_result"
    }
   ],
   "source": [
    "def fetch_close(ticker, start, end):\n",
    "    df = yf.download(ticker, start=start, end=end, progress=False)\n",
    "    return df[\"Close\"].rename(ticker).dropna()\n",
    "\n",
    "a = fetch_close(ticker_a, start, end)\n",
    "b = fetch_close(ticker_b, start, end)\n",
    "data = pd.concat([a, b], axis=1).dropna()\n",
    "data.tail()\n"
   ]
  },
  {
   "cell_type": "code",
   "execution_count": null,
   "id": "89266dac-630e-4a25-abba-8b5bc65ed9ed",
   "metadata": {},
   "outputs": [],
   "source": [
    "df = generate_signals(a=data.iloc[:,0], b=data.iloc[:,1],\n",
    "                      lookback=lookback, entry_z=entry_z, exit_z=exit_z)\n",
    "df.tail()\n"
   ]
  },
  {
   "cell_type": "code",
   "execution_count": null,
   "id": "c7326d48-b93d-44de-98cb-683e1d48742f",
   "metadata": {},
   "outputs": [],
   "source": [
    "plt.figure()\n",
    "df[\"z\"].plot(title=\"Spread z-score\")\n",
    "plt.xlabel(\"Date\"); plt.ylabel(\"z\"); plt.show()\n"
   ]
  },
  {
   "cell_type": "code",
   "execution_count": null,
   "id": "531fa8ce-e45a-4bc0-a8d5-e28db7cd611b",
   "metadata": {},
   "outputs": [],
   "source": [
    "equity, metrics = backtest(df, tc_bps=tc_bps, slippage_bps=slippage_bps)\n",
    "print(\"Metrics:\", metrics)\n",
    "\n",
    "plt.figure()\n",
    "equity.plot(title=\"Equity Curve\")\n",
    "plt.xlabel(\"Date\"); plt.ylabel(\"Equity\"); plt.show()\n",
    "\n",
    "os.makedirs(\"../reports\", exist_ok=True)\n",
    "equity.to_csv(\"../reports/equity_curve.csv\")\n",
    "df.to_csv(\"../reports/signals.csv\")\n",
    "\n",
    "import json\n",
    "with open(\"../reports/metrics.json\",\"w\") as f:\n",
    "    json.dump(metrics, f, indent=2)\n"
   ]
  }
 ],
 "metadata": {
  "kernelspec": {
   "display_name": "Python 3 (ipykernel)",
   "language": "python",
   "name": "python3"
  },
  "language_info": {
   "codemirror_mode": {
    "name": "ipython",
    "version": 3
   },
   "file_extension": ".py",
   "mimetype": "text/x-python",
   "name": "python",
   "nbconvert_exporter": "python",
   "pygments_lexer": "ipython3",
   "version": "3.10.19"
  }
 },
 "nbformat": 4,
 "nbformat_minor": 5
}
